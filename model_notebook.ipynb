{
  "nbformat": 4,
  "nbformat_minor": 0,
  "metadata": {
    "colab": {
      "provenance": [],
      "gpuType": "T4"
    },
    "kernelspec": {
      "name": "python3",
      "display_name": "Python 3"
    },
    "language_info": {
      "name": "python"
    },
    "accelerator": "GPU"
  },
  "cells": [
    {
      "cell_type": "code",
      "execution_count": 1,
      "metadata": {
        "id": "DCTFfInLvSL7",
        "colab": {
          "base_uri": "https://localhost:8080/"
        },
        "outputId": "b25689e3-aee4-4858-871b-0bd9d024bc28"
      },
      "outputs": [
        {
          "output_type": "stream",
          "name": "stdout",
          "text": [
            "Mounted at /content/drive\n"
          ]
        }
      ],
      "source": [
        "from google.colab import drive\n",
        "drive.mount('/content/drive')\n"
      ]
    },
    {
      "cell_type": "code",
      "source": [
        "import json\n",
        "import os\n",
        "\n",
        "# Label mappings\n",
        "modality_map = {\"01\": \"full-AV\", \"02\": \"video-only\", \"03\": \"audio-only\"}\n",
        "channel_map = {\"01\": \"speech\", \"02\": \"song\"}\n",
        "emotion_map = {\n",
        "    \"01\": \"neutral\", \"02\": \"calm\", \"03\": \"happy\", \"04\": \"sad\",\n",
        "    \"05\": \"angry\", \"06\": \"fearful\", \"07\": \"disgust\", \"08\": \"surprised\"\n",
        "}\n",
        "intensity_map = {\"01\": \"normal\", \"02\": \"strong\"}\n",
        "statement_map = {\"01\": \"kids\", \"02\": \"dogs\"}\n",
        "repetition_map = {\"01\": \"1st\", \"02\": \"2nd\"}\n",
        "\n",
        "\n",
        "base_dirs = [\"/content/drive/MyDrive/Song\", \"/content/drive/MyDrive/Speech\"]\n",
        "\n",
        "metadata = {}\n",
        "\n",
        "def process_directory(base_dir):\n",
        "    for root, _, files in os.walk(base_dir):\n",
        "        for file in files:\n",
        "            if file.endswith(\".wav\"):\n",
        "                full_path = os.path.join(root, file)\n",
        "                rel_path = os.path.relpath(full_path, base_dir)\n",
        "\n",
        "                parts = file.replace(\".wav\", \"\").split(\"-\")\n",
        "                if len(parts) != 7:\n",
        "                    print(f\"⚠️ Skipping malformed file: {file}\")\n",
        "                    continue\n",
        "\n",
        "                modality = modality_map.get(parts[0], \"unknown\")\n",
        "                channel = channel_map.get(parts[1], \"unknown\")\n",
        "                emotion = emotion_map.get(parts[2], \"unknown\")\n",
        "                intensity = intensity_map.get(parts[3], \"unknown\")\n",
        "                statement = statement_map.get(parts[4], \"unknown\")\n",
        "                repetition = repetition_map.get(parts[5], \"unknown\")\n",
        "                actor_id = int(parts[6])\n",
        "                gender = \"male\" if actor_id % 2 == 1 else \"female\"\n",
        "\n",
        "                metadata[file] = {\n",
        "                    \"relative_path\": os.path.join(base_dir, rel_path),\n",
        "                    \"modality\": modality,\n",
        "                    \"channel\": channel,\n",
        "                    \"emotion\": emotion,\n",
        "                    \"intensity\": intensity,\n",
        "                    \"statement\": statement,\n",
        "                    \"repetition\": repetition,\n",
        "                    \"actor_id\": actor_id,\n",
        "                    \"gender\": gender\n",
        "                }\n",
        "\n",
        "# Run on both folders\n",
        "for base_dir in base_dirs:\n",
        "    if os.path.exists(base_dir):\n",
        "        print(f\"✅ Processing: {base_dir}\")\n",
        "        process_directory(base_dir)\n",
        "    else:\n",
        "        print(f\"❌ Directory not found: {base_dir}\")\n",
        "\n",
        "# Save to metadata.json\n",
        "with open(\"metadata.json\", \"w\") as f:\n",
        "    json.dump(metadata, f, indent=4)\n",
        "\n",
        "print(f\"\\n🎉 Done! Metadata for {len(metadata)} files written to 'metadata.json'\")\n"
      ],
      "metadata": {
        "colab": {
          "base_uri": "https://localhost:8080/"
        },
        "id": "casx3bGyxGxe",
        "outputId": "d3f1ffd1-0b50-4479-9551-99835e45d118"
      },
      "execution_count": 2,
      "outputs": [
        {
          "output_type": "stream",
          "name": "stdout",
          "text": [
            "✅ Processing: /content/drive/MyDrive/Song\n",
            "✅ Processing: /content/drive/MyDrive/Speech\n",
            "\n",
            "🎉 Done! Metadata for 2452 files written to 'metadata.json'\n"
          ]
        }
      ]
    },
    {
      "cell_type": "code",
      "source": [
        "import librosa\n",
        "import torch\n",
        "from torch.utils.data import Dataset, DataLoader\n",
        "import numpy as np\n",
        "from sklearn.model_selection import train_test_split\n",
        "from tqdm import tqdm\n",
        "from sklearn.metrics import accuracy_score, f1_score"
      ],
      "metadata": {
        "id": "-xjgP9lA0JHF"
      },
      "execution_count": 3,
      "outputs": []
    },
    {
      "cell_type": "code",
      "source": [
        "# Load metadata\n",
        "with open(\"metadata.json\") as f:\n",
        "    metadata = json.load(f)\n",
        "\n",
        "# Label mapping\n",
        "emotion_list = [\"neutral\", \"calm\", \"happy\", \"sad\", \"angry\", \"fearful\", \"disgust\", \"surprised\"]\n",
        "label2idx = {label: i for i, label in enumerate(emotion_list)}\n",
        "idx2label = {i: label for label, i in label2idx.items()}\n",
        "\n",
        "\n",
        "\n",
        "SAMPLE_RATE = 32000\n",
        "MAX_LEN = 5\n",
        "N_MELS = 128\n",
        "\n",
        "\n",
        "\n",
        "\n",
        "def extract_melspec(path, max_len=5, sr=16000, n_mels=128):\n",
        "    y, _ = librosa.load(path, sr=sr)\n",
        "    y = librosa.util.fix_length(y, size=int(sr * max_len))\n",
        "    melspec = librosa.feature.melspectrogram(y=y, sr=sr, n_mels=n_mels)\n",
        "    melspec_db = librosa.power_to_db(melspec, ref=np.max)\n",
        "    melspec_db = (melspec_db - melspec_db.mean()) / (melspec_db.std() + 1e-6)\n",
        "    return melspec_db.astype(np.float32)\n",
        "\n",
        "\n",
        "\n",
        "\n",
        "# Dataset class\n",
        "class EmotionDataset(Dataset):\n",
        "    def __init__(self, metadata, base_dir):\n",
        "        self.samples = []\n",
        "        for fname, meta in metadata.items():\n",
        "            path = os.path.join(base_dir, meta[\"relative_path\"])\n",
        "            if os.path.exists(path):\n",
        "                self.samples.append((path, label2idx[meta[\"emotion\"]]))\n",
        "\n",
        "    def __len__(self):\n",
        "        return len(self.samples)\n",
        "\n",
        "    def __getitem__(self, idx):\n",
        "        path, label = self.samples[idx]\n",
        "        features = extract_melspec(path)\n",
        "        return torch.tensor(features).unsqueeze(0), torch.tensor(label)"
      ],
      "metadata": {
        "id": "wy406wi74O3_"
      },
      "execution_count": 4,
      "outputs": []
    },
    {
      "cell_type": "code",
      "source": [
        "from collections import Counter\n",
        "Counter(meta[\"emotion\"] for meta in metadata.values())\n"
      ],
      "metadata": {
        "colab": {
          "base_uri": "https://localhost:8080/"
        },
        "id": "77fXsNrVE59r",
        "outputId": "e62da21b-96fa-4b34-98ec-4f55ca3d2fb4"
      },
      "execution_count": null,
      "outputs": [
        {
          "output_type": "execute_result",
          "data": {
            "text/plain": [
              "Counter({'calm': 376,\n",
              "         'angry': 376,\n",
              "         'neutral': 188,\n",
              "         'sad': 376,\n",
              "         'happy': 376,\n",
              "         'fearful': 376,\n",
              "         'surprised': 192,\n",
              "         'disgust': 192})"
            ]
          },
          "metadata": {},
          "execution_count": 5
        }
      ]
    },
    {
      "cell_type": "code",
      "source": [
        "import torch\n",
        "import torch.nn as nn\n",
        "import torchvision.models as models\n",
        "\n",
        "class VGG16LSTM(nn.Module):\n",
        "    def __init__(self, num_classes, fine_tune=True):\n",
        "        super().__init__()\n",
        "\n",
        "\n",
        "        vgg = models.vgg16(weights=models.VGG16_Weights.IMAGENET1K_V1)\n",
        "        vgg.features[0] = nn.Conv2d(1, 64, kernel_size=7, stride=1, padding=3)\n",
        "\n",
        "        self.feature_extractor = vgg.features\n",
        "\n",
        "\n",
        "        if not fine_tune:\n",
        "            for param in self.feature_extractor.parameters():\n",
        "                param.requires_grad = False\n",
        "\n",
        "        self.lstm_input_size = 512 * 4\n",
        "\n",
        "\n",
        "        self.lstm1 = nn.LSTM(input_size=self.lstm_input_size, hidden_size=160, batch_first=True, bidirectional=True)\n",
        "        self.bn1 = nn.BatchNorm1d(320)\n",
        "        self.dropout1 = nn.Dropout(0.3)\n",
        "\n",
        "        self.lstm2 = nn.LSTM(input_size=320, hidden_size=160, batch_first=True, bidirectional=True)\n",
        "        self.bn2 = nn.BatchNorm1d(320)\n",
        "        self.dropout2 = nn.Dropout(0.3)\n",
        "\n",
        "        self.final_dropout = nn.Dropout(0.1)\n",
        "\n",
        "\n",
        "        self.fc = nn.Sequential(\n",
        "            nn.Linear(320, 128),\n",
        "            nn.BatchNorm1d(128),\n",
        "            nn.ReLU(),\n",
        "            nn.Dropout(0.2),\n",
        "            nn.Linear(128, 64),\n",
        "            nn.GELU(),\n",
        "            nn.Linear(64, num_classes)\n",
        "        )\n",
        "\n",
        "    def forward(self, x):\n",
        "        x = self.feature_extractor(x)\n",
        "        x = x.permute(0, 3, 1, 2)\n",
        "        B, T, C, H = x.size()\n",
        "        x = x.reshape(B, T, C * H)\n",
        "\n",
        "        x, _ = self.lstm1(x)\n",
        "        x = self.bn1(x.transpose(1, 2)).transpose(1, 2)\n",
        "        x = self.dropout1(x)\n",
        "\n",
        "        x, _ = self.lstm2(x)\n",
        "        x = self.bn2(x.transpose(1, 2)).transpose(1, 2)\n",
        "        x = self.dropout2(x)\n",
        "\n",
        "        x = torch.max(x, dim=1).values\n",
        "        x = self.final_dropout(x)\n",
        "        return self.fc(x)\n",
        "\n",
        "\n",
        "\n",
        "\n"
      ],
      "metadata": {
        "id": "MXAOJwZf5qEN"
      },
      "execution_count": 6,
      "outputs": []
    },
    {
      "cell_type": "code",
      "source": [
        "# Split data: 80% for training, 20% for validation\n",
        "all_files = list(metadata.items())\n",
        "train_data, val_data = train_test_split(\n",
        "    all_files,\n",
        "    test_size=0.2,\n",
        "    random_state=42,\n",
        "    stratify=[m['emotion'] for _, m in all_files]\n",
        ")\n",
        "\n",
        "# Construct metadata dictionaries\n",
        "train_meta = {k: v for k, v in train_data}\n",
        "val_meta   = {k: v for k, v in val_data}\n",
        "\n",
        "train_ds = EmotionDataset(train_meta, base_dir=\"Speech\")\n",
        "val_ds   = EmotionDataset(val_meta, base_dir=\"Speech\")\n",
        "\n",
        "train_loader = DataLoader(train_ds, batch_size=16, shuffle=True)\n",
        "val_loader   = DataLoader(val_ds, batch_size=16)\n"
      ],
      "metadata": {
        "id": "sdkeqmyJ6N7_"
      },
      "execution_count": 7,
      "outputs": []
    },
    {
      "cell_type": "code",
      "source": [
        "# Training\n",
        "from sklearn.utils.class_weight import compute_class_weight\n",
        "import numpy as np\n",
        "\n",
        "\n",
        "device = torch.device(\"cuda\" if torch.cuda.is_available() else \"cpu\")\n",
        "labels = [label2idx[m[\"emotion\"]] for m in metadata.values()]\n",
        "class_weights = compute_class_weight(class_weight=\"balanced\", classes=np.unique(labels), y=labels)\n",
        "weights = torch.tensor(class_weights, dtype=torch.float).to(device)\n",
        "model = VGG16LSTM(num_classes=8, fine_tune=True).to(device)\n",
        "loss_fn = nn.CrossEntropyLoss(label_smoothing=0.1)\n",
        "optimizer = torch.optim.Adam(filter(lambda p: p.requires_grad, model.parameters()), lr=4e-5)\n",
        "scheduler = torch.optim.lr_scheduler.ReduceLROnPlateau(optimizer, mode='max', factor=0.5, patience=2, verbose=True)"
      ],
      "metadata": {
        "id": "WIyB6hGV7DOV",
        "colab": {
          "base_uri": "https://localhost:8080/"
        },
        "outputId": "c1b13b85-7ba5-4949-ad7b-1dc235c64ca0"
      },
      "execution_count": 8,
      "outputs": [
        {
          "output_type": "stream",
          "name": "stderr",
          "text": [
            "Downloading: \"https://download.pytorch.org/models/vgg16-397923af.pth\" to /root/.cache/torch/hub/checkpoints/vgg16-397923af.pth\n",
            "100%|██████████| 528M/528M [00:06<00:00, 83.9MB/s]\n",
            "/usr/local/lib/python3.11/dist-packages/torch/optim/lr_scheduler.py:62: UserWarning: The verbose parameter is deprecated. Please use get_last_lr() to access the learning rate.\n",
            "  warnings.warn(\n"
          ]
        }
      ]
    },
    {
      "cell_type": "code",
      "source": [
        "\n",
        "for epoch in range(30):\n",
        "    model.train()\n",
        "    total_loss = 0\n",
        "    for X, y in tqdm(train_loader, desc=f\"Epoch {epoch+1}\"):\n",
        "        X, y = X.to(device), y.to(device)\n",
        "        out = model(X)\n",
        "        loss = loss_fn(out, y)\n",
        "        optimizer.zero_grad()\n",
        "        loss.backward()\n",
        "        torch.nn.utils.clip_grad_norm_(model.parameters(), max_norm=3.0)\n",
        "        optimizer.step()\n",
        "        total_loss += loss.item()\n",
        "    print(f\"Train Loss: {total_loss:.2f}\")\n",
        "\n",
        "    # Validation\n",
        "    model.eval()\n",
        "    val_preds, val_labels = [], []\n",
        "    with torch.no_grad():\n",
        "        for X, y in val_loader:\n",
        "            X = X.to(device)\n",
        "            preds = model(X).argmax(1).cpu().numpy()\n",
        "            val_preds.extend(preds)\n",
        "            val_labels.extend(y.numpy())\n",
        "\n",
        "    val_acc = accuracy_score(val_labels, val_preds)\n",
        "    val_f1 = f1_score(val_labels, val_preds, average='weighted')\n",
        "    print(f\"Validation Accuracy: {val_acc:.2%}, F1 Score: {val_f1:.2%}\")\n",
        "    scheduler.step(val_acc)\n"
      ],
      "metadata": {
        "colab": {
          "base_uri": "https://localhost:8080/"
        },
        "id": "_tq-pY1c6eRM",
        "outputId": "04fab252-c930-487b-84af-f8b7fe9ca308"
      },
      "execution_count": 9,
      "outputs": [
        {
          "metadata": {
            "tags": null
          },
          "name": "stderr",
          "output_type": "stream",
          "text": [
            "Epoch 1: 100%|██████████| 123/123 [22:35<00:00, 11.02s/it]\n"
          ]
        },
        {
          "metadata": {
            "tags": null
          },
          "name": "stdout",
          "output_type": "stream",
          "text": [
            "Train Loss: 252.67\n",
            "Validation Accuracy: 26.68%, F1 Score: 23.70%\n"
          ]
        },
        {
          "metadata": {
            "tags": null
          },
          "name": "stderr",
          "output_type": "stream",
          "text": [
            "Epoch 2: 100%|██████████| 123/123 [00:47<00:00,  2.58it/s]\n"
          ]
        },
        {
          "metadata": {
            "tags": null
          },
          "name": "stdout",
          "output_type": "stream",
          "text": [
            "Train Loss: 244.01\n",
            "Validation Accuracy: 33.81%, F1 Score: 27.66%\n"
          ]
        },
        {
          "metadata": {
            "tags": null
          },
          "name": "stderr",
          "output_type": "stream",
          "text": [
            "Epoch 3: 100%|██████████| 123/123 [00:47<00:00,  2.57it/s]\n"
          ]
        },
        {
          "metadata": {
            "tags": null
          },
          "name": "stdout",
          "output_type": "stream",
          "text": [
            "Train Loss: 233.18\n",
            "Validation Accuracy: 39.31%, F1 Score: 31.96%\n"
          ]
        },
        {
          "metadata": {
            "tags": null
          },
          "name": "stderr",
          "output_type": "stream",
          "text": [
            "Epoch 4: 100%|██████████| 123/123 [00:49<00:00,  2.46it/s]\n"
          ]
        },
        {
          "metadata": {
            "tags": null
          },
          "name": "stdout",
          "output_type": "stream",
          "text": [
            "Train Loss: 217.69\n",
            "Validation Accuracy: 48.47%, F1 Score: 43.28%\n"
          ]
        },
        {
          "metadata": {
            "tags": null
          },
          "name": "stderr",
          "output_type": "stream",
          "text": [
            "Epoch 5: 100%|██████████| 123/123 [00:49<00:00,  2.47it/s]\n"
          ]
        },
        {
          "metadata": {
            "tags": null
          },
          "name": "stdout",
          "output_type": "stream",
          "text": [
            "Train Loss: 200.16\n",
            "Validation Accuracy: 47.25%, F1 Score: 42.45%\n"
          ]
        },
        {
          "metadata": {
            "tags": null
          },
          "name": "stderr",
          "output_type": "stream",
          "text": [
            "Epoch 6: 100%|██████████| 123/123 [00:47<00:00,  2.57it/s]\n"
          ]
        },
        {
          "metadata": {
            "tags": null
          },
          "name": "stdout",
          "output_type": "stream",
          "text": [
            "Train Loss: 184.96\n",
            "Validation Accuracy: 54.79%, F1 Score: 50.35%\n"
          ]
        },
        {
          "metadata": {
            "tags": null
          },
          "name": "stderr",
          "output_type": "stream",
          "text": [
            "Epoch 7: 100%|██████████| 123/123 [00:51<00:00,  2.38it/s]\n"
          ]
        },
        {
          "metadata": {
            "tags": null
          },
          "name": "stdout",
          "output_type": "stream",
          "text": [
            "Train Loss: 169.67\n",
            "Validation Accuracy: 59.47%, F1 Score: 56.56%\n"
          ]
        },
        {
          "metadata": {
            "tags": null
          },
          "name": "stderr",
          "output_type": "stream",
          "text": [
            "Epoch 8: 100%|██████████| 123/123 [00:49<00:00,  2.48it/s]\n"
          ]
        },
        {
          "metadata": {
            "tags": null
          },
          "name": "stdout",
          "output_type": "stream",
          "text": [
            "Train Loss: 151.82\n",
            "Validation Accuracy: 63.14%, F1 Score: 61.24%\n"
          ]
        },
        {
          "metadata": {
            "tags": null
          },
          "name": "stderr",
          "output_type": "stream",
          "text": [
            "Epoch 9: 100%|██████████| 123/123 [00:47<00:00,  2.60it/s]\n"
          ]
        },
        {
          "metadata": {
            "tags": null
          },
          "name": "stdout",
          "output_type": "stream",
          "text": [
            "Train Loss: 137.70\n",
            "Validation Accuracy: 65.99%, F1 Score: 63.62%\n"
          ]
        },
        {
          "metadata": {
            "tags": null
          },
          "name": "stderr",
          "output_type": "stream",
          "text": [
            "Epoch 10: 100%|██████████| 123/123 [00:47<00:00,  2.57it/s]\n"
          ]
        },
        {
          "metadata": {
            "tags": null
          },
          "name": "stdout",
          "output_type": "stream",
          "text": [
            "Train Loss: 122.26\n",
            "Validation Accuracy: 72.71%, F1 Score: 72.09%\n"
          ]
        },
        {
          "metadata": {
            "tags": null
          },
          "name": "stderr",
          "output_type": "stream",
          "text": [
            "Epoch 11: 100%|██████████| 123/123 [00:49<00:00,  2.47it/s]\n"
          ]
        },
        {
          "metadata": {
            "tags": null
          },
          "name": "stdout",
          "output_type": "stream",
          "text": [
            "Train Loss: 108.16\n",
            "Validation Accuracy: 72.51%, F1 Score: 71.41%\n"
          ]
        },
        {
          "metadata": {
            "tags": null
          },
          "name": "stderr",
          "output_type": "stream",
          "text": [
            "Epoch 12: 100%|██████████| 123/123 [00:49<00:00,  2.49it/s]\n"
          ]
        },
        {
          "metadata": {
            "tags": null
          },
          "name": "stdout",
          "output_type": "stream",
          "text": [
            "Train Loss: 96.82\n",
            "Validation Accuracy: 73.73%, F1 Score: 73.71%\n"
          ]
        },
        {
          "metadata": {
            "tags": null
          },
          "name": "stderr",
          "output_type": "stream",
          "text": [
            "Epoch 13: 100%|██████████| 123/123 [00:47<00:00,  2.57it/s]\n"
          ]
        },
        {
          "metadata": {
            "tags": null
          },
          "name": "stdout",
          "output_type": "stream",
          "text": [
            "Train Loss: 89.20\n",
            "Validation Accuracy: 77.60%, F1 Score: 77.30%\n"
          ]
        },
        {
          "metadata": {
            "tags": null
          },
          "name": "stderr",
          "output_type": "stream",
          "text": [
            "Epoch 14: 100%|██████████| 123/123 [00:49<00:00,  2.46it/s]\n"
          ]
        },
        {
          "metadata": {
            "tags": null
          },
          "name": "stdout",
          "output_type": "stream",
          "text": [
            "Train Loss: 80.61\n",
            "Validation Accuracy: 77.80%, F1 Score: 77.47%\n"
          ]
        },
        {
          "metadata": {
            "tags": null
          },
          "name": "stderr",
          "output_type": "stream",
          "text": [
            "Epoch 15: 100%|██████████| 123/123 [00:50<00:00,  2.44it/s]\n"
          ]
        },
        {
          "metadata": {
            "tags": null
          },
          "name": "stdout",
          "output_type": "stream",
          "text": [
            "Train Loss: 75.52\n",
            "Validation Accuracy: 76.17%, F1 Score: 76.11%\n"
          ]
        },
        {
          "output_type": "stream",
          "name": "stderr",
          "text": [
            "Epoch 16: 100%|██████████| 123/123 [00:47<00:00,  2.58it/s]\n"
          ]
        },
        {
          "output_type": "stream",
          "name": "stdout",
          "text": [
            "Train Loss: 73.10\n",
            "Validation Accuracy: 76.78%, F1 Score: 76.32%\n"
          ]
        },
        {
          "output_type": "stream",
          "name": "stderr",
          "text": [
            "Epoch 17: 100%|██████████| 123/123 [00:48<00:00,  2.56it/s]\n"
          ]
        },
        {
          "output_type": "stream",
          "name": "stdout",
          "text": [
            "Train Loss: 71.47\n",
            "Validation Accuracy: 76.78%, F1 Score: 76.54%\n"
          ]
        },
        {
          "output_type": "stream",
          "name": "stderr",
          "text": [
            "Epoch 18: 100%|██████████| 123/123 [00:49<00:00,  2.48it/s]\n"
          ]
        },
        {
          "output_type": "stream",
          "name": "stdout",
          "text": [
            "Train Loss: 67.77\n",
            "Validation Accuracy: 81.87%, F1 Score: 81.81%\n"
          ]
        },
        {
          "output_type": "stream",
          "name": "stderr",
          "text": [
            "Epoch 19: 100%|██████████| 123/123 [00:48<00:00,  2.56it/s]\n"
          ]
        },
        {
          "output_type": "stream",
          "name": "stdout",
          "text": [
            "Train Loss: 65.46\n",
            "Validation Accuracy: 82.89%, F1 Score: 82.71%\n"
          ]
        },
        {
          "output_type": "stream",
          "name": "stderr",
          "text": [
            "Epoch 20: 100%|██████████| 123/123 [00:47<00:00,  2.60it/s]\n"
          ]
        },
        {
          "output_type": "stream",
          "name": "stdout",
          "text": [
            "Train Loss: 65.28\n",
            "Validation Accuracy: 81.26%, F1 Score: 80.91%\n"
          ]
        },
        {
          "output_type": "stream",
          "name": "stderr",
          "text": [
            "Epoch 21: 100%|██████████| 123/123 [00:47<00:00,  2.59it/s]\n"
          ]
        },
        {
          "output_type": "stream",
          "name": "stdout",
          "text": [
            "Train Loss: 64.57\n",
            "Validation Accuracy: 81.06%, F1 Score: 80.88%\n"
          ]
        },
        {
          "output_type": "stream",
          "name": "stderr",
          "text": [
            "Epoch 22: 100%|██████████| 123/123 [00:49<00:00,  2.48it/s]\n"
          ]
        },
        {
          "output_type": "stream",
          "name": "stdout",
          "text": [
            "Train Loss: 64.95\n",
            "Validation Accuracy: 84.93%, F1 Score: 85.03%\n"
          ]
        },
        {
          "output_type": "stream",
          "name": "stderr",
          "text": [
            "Epoch 23: 100%|██████████| 123/123 [00:49<00:00,  2.48it/s]\n"
          ]
        },
        {
          "output_type": "stream",
          "name": "stdout",
          "text": [
            "Train Loss: 63.76\n",
            "Validation Accuracy: 83.91%, F1 Score: 83.85%\n"
          ]
        },
        {
          "output_type": "stream",
          "name": "stderr",
          "text": [
            "Epoch 24: 100%|██████████| 123/123 [00:47<00:00,  2.56it/s]\n"
          ]
        },
        {
          "output_type": "stream",
          "name": "stdout",
          "text": [
            "Train Loss: 64.06\n",
            "Validation Accuracy: 81.67%, F1 Score: 81.56%\n"
          ]
        },
        {
          "output_type": "stream",
          "name": "stderr",
          "text": [
            "Epoch 25: 100%|██████████| 123/123 [00:47<00:00,  2.59it/s]\n"
          ]
        },
        {
          "output_type": "stream",
          "name": "stdout",
          "text": [
            "Train Loss: 63.82\n",
            "Validation Accuracy: 83.71%, F1 Score: 83.56%\n"
          ]
        },
        {
          "output_type": "stream",
          "name": "stderr",
          "text": [
            "Epoch 26: 100%|██████████| 123/123 [00:48<00:00,  2.51it/s]\n"
          ]
        },
        {
          "output_type": "stream",
          "name": "stdout",
          "text": [
            "Train Loss: 62.83\n",
            "Validation Accuracy: 83.50%, F1 Score: 83.38%\n"
          ]
        },
        {
          "output_type": "stream",
          "name": "stderr",
          "text": [
            "Epoch 27: 100%|██████████| 123/123 [00:49<00:00,  2.48it/s]\n"
          ]
        },
        {
          "output_type": "stream",
          "name": "stdout",
          "text": [
            "Train Loss: 62.66\n",
            "Validation Accuracy: 83.91%, F1 Score: 83.88%\n"
          ]
        },
        {
          "output_type": "stream",
          "name": "stderr",
          "text": [
            "Epoch 28: 100%|██████████| 123/123 [00:47<00:00,  2.60it/s]\n"
          ]
        },
        {
          "output_type": "stream",
          "name": "stdout",
          "text": [
            "Train Loss: 62.38\n",
            "Validation Accuracy: 85.95%, F1 Score: 85.80%\n"
          ]
        },
        {
          "output_type": "stream",
          "name": "stderr",
          "text": [
            "Epoch 29: 100%|██████████| 123/123 [00:47<00:00,  2.61it/s]\n"
          ]
        },
        {
          "output_type": "stream",
          "name": "stdout",
          "text": [
            "Train Loss: 61.99\n",
            "Validation Accuracy: 85.54%, F1 Score: 85.38%\n"
          ]
        },
        {
          "output_type": "stream",
          "name": "stderr",
          "text": [
            "Epoch 30: 100%|██████████| 123/123 [00:50<00:00,  2.44it/s]\n"
          ]
        },
        {
          "output_type": "stream",
          "name": "stdout",
          "text": [
            "Train Loss: 62.42\n",
            "Validation Accuracy: 82.69%, F1 Score: 82.61%\n"
          ]
        }
      ]
    },
    {
      "cell_type": "code",
      "source": [
        "import matplotlib.pyplot as plt\n",
        "import seaborn as sns\n",
        "from sklearn.metrics import confusion_matrix\n",
        "import numpy as np\n",
        "\n",
        "idx2label = {v: k for k, v in label2idx.items()}\n",
        "\n",
        "cm = confusion_matrix(val_labels, val_preds)\n",
        "plt.figure(figsize=(10, 8))\n",
        "sns.heatmap(cm, annot=True, fmt='d', cmap='Blues',\n",
        "            xticklabels=[idx2label[i] for i in range(len(idx2label))],\n",
        "            yticklabels=[idx2label[i] for i in range(len(idx2label))])\n",
        "plt.xlabel('Predicted')\n",
        "plt.ylabel('True')\n",
        "plt.title(f'Confusion Matrix - Epoch {epoch+1}')\n",
        "plt.tight_layout()\n",
        "plt.show()"
      ],
      "metadata": {
        "colab": {
          "base_uri": "https://localhost:8080/",
          "height": 807
        },
        "id": "5dVzEYVclRCN",
        "outputId": "4c3ebc81-7b90-4fee-e901-3bcb9f5b7c11"
      },
      "execution_count": 11,
      "outputs": [
        {
          "output_type": "display_data",
          "data": {
            "text/plain": [
              "<Figure size 1000x800 with 2 Axes>"
            ],
            "image/png": "[encoded data removed]"
          },
          "metadata": {}
        }
      ]
    },
    {
      "cell_type": "code",
      "source": [
        "torch.save(model.state_dict(),\"emotion_model.pth\")"
      ],
      "metadata": {
        "id": "vq_Wyy1Snr5n"
      },
      "execution_count": 10,
      "outputs": []
    }
  ]
}
